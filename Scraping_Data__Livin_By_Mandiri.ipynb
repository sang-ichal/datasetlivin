{
  "nbformat": 4,
  "nbformat_minor": 0,
  "metadata": {
    "colab": {
      "provenance": []
    },
    "kernelspec": {
      "name": "python3",
      "display_name": "Python 3"
    },
    "language_info": {
      "name": "python"
    }
  },
  "cells": [
    {
      "cell_type": "markdown",
      "source": [
        "# **ANALISIS SENTIMEN PENGGUNA TERHADAP APLIKASI LIVIN BY MANDIRI DI PLAY STORE**\n",
        "**by FAIZAL RIZA**"
      ],
      "metadata": {
        "id": "xmig-KIbmTWk"
      }
    },
    {
      "cell_type": "markdown",
      "source": [],
      "metadata": {
        "id": "5-ffLAZ8m99x"
      }
    },
    {
      "cell_type": "markdown",
      "source": [
        "# **1. SCRAPING DATA**"
      ],
      "metadata": {
        "id": "bW_LLqd3mv2I"
      }
    },
    {
      "cell_type": "markdown",
      "source": [
        "# 1.1. Instalasi dan Import Library"
      ],
      "metadata": {
        "id": "4xOgWtwUm4jX"
      }
    },
    {
      "cell_type": "code",
      "source": [
        "!pip install google-play-scraper\n",
        "from google_play_scraper import Sort, reviews_all\n",
        "import csv"
      ],
      "metadata": {
        "colab": {
          "base_uri": "https://localhost:8080/"
        },
        "id": "tdySZ9ghmpDx",
        "outputId": "8284deba-1aa3-4cd1-e0a2-f97d3845dde6"
      },
      "execution_count": 2,
      "outputs": [
        {
          "output_type": "stream",
          "name": "stdout",
          "text": [
            "Requirement already satisfied: google-play-scraper in /usr/local/lib/python3.10/dist-packages (1.2.7)\n"
          ]
        }
      ]
    },
    {
      "cell_type": "markdown",
      "source": [
        "# 1.2. Scrap Review"
      ],
      "metadata": {
        "id": "W0gbKXEwndPe"
      }
    },
    {
      "cell_type": "code",
      "source": [
        "# Ambil ulasan\n",
        "scrapreview = reviews_all(\n",
        "    'id.bmri.livin',\n",
        "    lang='id',\n",
        "    country='id',\n",
        "    sort=Sort.MOST_RELEVANT,\n",
        "    count=150000\n",
        ")\n",
        "\n",
        "# Batasi scraping hanya 150.000 data ulasan\n",
        "scrapreview_limited = scrapreview[:150000]"
      ],
      "metadata": {
        "id": "A0qlKh4bnvXz"
      },
      "execution_count": 4,
      "outputs": []
    },
    {
      "cell_type": "markdown",
      "source": [
        "# 1.3. Simpan Dataset (.csv)"
      ],
      "metadata": {
        "id": "LiNWYlstoOMp"
      }
    },
    {
      "cell_type": "code",
      "source": [
        "# Menulis ulasan ke file CSV dengan semua informasi\n",
        "with open('hasil_scraping_livin.csv', mode='w', newline='', encoding='utf-8') as file:\n",
        "    writer = csv.writer(file)\n",
        "    # Menulis header CSV\n",
        "    writer.writerow(['content','score'])\n",
        "\n",
        "    # Menulis tiap ulasan ke dalam file CSV\n",
        "    for review in scrapreview_limited:\n",
        "        writer.writerow([\n",
        "            review['content'],\n",
        "            review.get('score', '')\n",
        "        ])\n",
        "\n",
        "print(\"Data telah disimpan ke hasil_screeping_livin.csv\")"
      ],
      "metadata": {
        "colab": {
          "base_uri": "https://localhost:8080/"
        },
        "id": "wKKpew4voVp3",
        "outputId": "62c0177f-7317-48e8-d13b-23f47bbeb4af"
      },
      "execution_count": 5,
      "outputs": [
        {
          "output_type": "stream",
          "name": "stdout",
          "text": [
            "Data telah disimpan ke hasil_screeping_livin.csv\n"
          ]
        }
      ]
    }
  ]
}